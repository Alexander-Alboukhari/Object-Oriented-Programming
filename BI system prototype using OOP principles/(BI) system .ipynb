{
 "cells": [
  {
   "cell_type": "markdown",
   "metadata": {},
   "source": [
    "# Object Oriented Programming. Scenario for ABC-BI\n"
   ]
  },
  {
   "cell_type": "markdown",
   "metadata": {},
   "source": [
    "### ( ALEXANDER ALBOUKHARI) **UC2OOP101**\n"
   ]
  },
  {
   "cell_type": "markdown",
   "metadata": {},
   "source": [
    "# Introduction\n",
    "This paper constructs a prototype for the ABC-BI system to demonstrate the advantages of Object Oriented Programming (OOP) design. The prototype is a practical model that explains the structure and application of commonly used programming designs and the essential concepts of OOP.\n",
    "\n",
    "Design patterns are established models developed by a group of four IBM programmers called \"The Gang of Four\" patterns support programmers in implementing their preferred design. \n",
    "For a particular business scenario, the primary goal of patterns is to build a design that can be readily expanded in the future without having to rewrite current code."
   ]
  },
  {
   "cell_type": "markdown",
   "metadata": {},
   "source": [
    "# Business Intelligence (BI) system"
   ]
  },
  {
   "cell_type": "markdown",
   "metadata": {},
   "source": [
    "In the case of designing the Business Intelligence (BI) system needs to demonstrate the separation of frontend and backend components and their interactions to deal with constantly changing information. In this case, the goal is to make a system that works well, can expand as needed, is easy to maintain, and can change to meet new requirements."
   ]
  },
  {
   "cell_type": "code",
   "execution_count": 1,
   "metadata": {},
   "outputs": [],
   "source": [
    "from abc import ABC, abstractmethod\n",
    "from statistics import mean, median, mode\n",
    "import _thread\n"
   ]
  },
  {
   "cell_type": "markdown",
   "metadata": {},
   "source": [
    " ## 1. Dynamic Dataset Management:"
   ]
  },
  {
   "cell_type": "markdown",
   "metadata": {},
   "source": [
    "**Encapsulation and Polymorphism in Dataset Operations**\n",
    "\n",
    "The `Dataset` class encapsulates data and provides `add`, `remove`, and `inspect` methods to manipulate data elements, illustrating the concept of encapsulation in dataset operations. \n",
    "\n",
    "These methods demonstrate polymorphism, enabling them to process many kinds of data and enable dynamic interchange with a wide range of data types. \n",
    "\n",
    "**OOP Principles Applied**\n",
    "The Observer Pattern is a design pattern to implemented for notifying  of changes. For this reason, implementing this pattern encourages an open connection between the dataset and the front-end components.\n",
    "\n",
    "This feature is essential since it will ensure the system's efficiency and consistency in data changes.Nevertheless, this is important in business intelligence applications involving real-time data analysis and reporting."
   ]
  },
  {
   "cell_type": "markdown",
   "metadata": {},
   "source": [
    "**Dataset class**, the add and remove methods ensure that all observers are notified of changes to the dataset, and the inspect method allows external entities to access the data in its existing condition without changing it. Also, the dataset becomes a subject that informs observers of changes in its state via the `Observer_Manager` inside the class, which follows the Observer pattern."
   ]
  },
  {
   "cell_type": "code",
   "execution_count": 2,
   "metadata": {},
   "outputs": [],
   "source": [
    "\n",
    "# The Dataset class manages a collection of data and notifies observers about changes\n",
    "class Dataset:\n",
    "    def __init__(self, data):\n",
    "        # Initializes the dataset with a given list of data elements\n",
    "        self.data = data\n",
    "\n",
    "        # Initializes an Observer_Manager to manage subscribers to the dataset\n",
    "        self.observer_manager = ObserverManager()\n",
    "\n",
    "    def add(self, element):\n",
    "        # Adds an element to the dataset. This can be any type of data\n",
    "        self.data.append(element)\n",
    "\n",
    "        # Notifies all subscribed observers about the change in the dataset\n",
    "        self.observer_manager.notify(self.data)\n",
    "\n",
    "    def remove(self, element):\n",
    "        # Removes an element from the dataset, if it exists.\n",
    "        if element in self.data:\n",
    "            self.data.remove(element)\n",
    "\n",
    "            # Notifies all subscribers about the updated dataset after the removal\n",
    "            self.observer_manager.notify(self.data)\n",
    "\n",
    "    def inspect(self):\n",
    "         # Provides a method to inspect the current state of the dataset\n",
    "         # This is useful for retrieving the dataset without changing it\n",
    "        return self.data\n",
    "\n"
   ]
  },
  {
   "cell_type": "markdown",
   "metadata": {},
   "source": [
    "**Data Validation with Abstraction and Inheritance**\n",
    " To implement data integrity by providing  the dataset that attaches to the specific rule.\n",
    "\n",
    " `Data_Rule` is an abstract class that defines a common interface for data validation rules in demonstrating the concepts of abstraction and inheritance. \n",
    "\n",
    "In addition `Numeric_Validation_Rule` is a subclass of `Data_Rule` that particularly verifies numeric and positive values, demonstrating a concrete implementations subclass implements the `apply` function inherited from the `Data_Rule` class, which enforces certain data restrictions in the dataset structure allows simple adjustments by adding additional subclasses of `Data_Rule` to meet different validation needs, demonstrating the system's flexibility and utilization of inheritance."
   ]
  },
  {
   "cell_type": "code",
   "execution_count": 3,
   "metadata": {},
   "outputs": [],
   "source": [
    "# Data_Rule is an abstract base class (ABC) that defines a common interface for data validation rules.\n",
    "class Data_Rule(ABC):\n",
    "\n",
    "    @abstractmethod\n",
    "    def apply(self, data):\n",
    "        # This is an abstract method, meaning it must be implemented by any subclass of Data_Rule.\n",
    "        # The method is designed to take 'data' as an input and apply a validation rule to it.\n",
    "        pass\n"
   ]
  },
  {
   "cell_type": "code",
   "execution_count": 4,
   "metadata": {},
   "outputs": [],
   "source": [
    "# Numeric_Validation_Rule is a concrete implementation of the Data_Rule class.\n",
    "class Numeric_Validation_Rule(Data_Rule):\n",
    "\n",
    "    def apply(self, data_list):\n",
    "        # This method overrides the abstract 'apply' method in Data_Rule.\n",
    "\n",
    "        # Initialize two lists to categorize valid and invalid items.\n",
    "        invalid_items = []  # List to store items that fail the validation criteria.\n",
    "        valid_items = []    # List to store items that pass the validation criteria.\n",
    "\n",
    "        # Iterate over each item in the provided data list.\n",
    "        for item in data_list:\n",
    "            # Check if the item is a number (int or float) and positive.\n",
    "            if not isinstance(item, (int, float)) or item < 0:\n",
    "                invalid_items.append(item)  # Add non-numeric or negative numbers to invalid_items.\n",
    "            else:\n",
    "                valid_items.append(item)    # Add valid numeric items to valid_items.\n",
    "\n",
    "        # The method returns a tuple containing two lists: valid_items and invalid_items.\n",
    "        # This allows users of this method to easily separate valid data from invalid data.\n",
    "        return valid_items, invalid_items\n",
    "    "
   ]
  },
  {
   "cell_type": "markdown",
   "metadata": {},
   "source": [
    "## 2. Flexible Calculation Methods:"
   ]
  },
  {
   "cell_type": "markdown",
   "metadata": {},
   "source": [
    "**Strategy Pattern for Calculation Methods**\n",
    "\n",
    "The strategy pattern is used in this design, along with the general statistical method class with specific methods for statistical analysis like mode, mean, and median.\n",
    "\n",
    "Along with a calculation method, it enables dynamic interchangeability for each dataset instance. As a result, keeping calculation functions separate from data handling makes the code easier to update and ensures a clean, scalable, and adaptable dataset analysis system."
   ]
  },
  {
   "cell_type": "code",
   "execution_count": 5,
   "metadata": {},
   "outputs": [],
   "source": [
    "# It useing the Strategy Pattern, allowing the specific calculation method to be dynamically selected at runtime.\n",
    "class Data_Calculator:\n",
    "    def __init__(self, calculation_method):\n",
    "\n",
    "        # an object that conforms to the Statistical_Method interface,\n",
    "        self.calculation_method = calculation_method\n",
    "\n",
    "    def calculate(self, data):\n",
    "        # Performs a calculation on the provided data using the specified calculation method\n",
    "\n",
    "        return self.calculation_method.calculate(data)\n",
    "        # This design allows for easy extension of the calculator's functionality.\n"
   ]
  },
  {
   "cell_type": "markdown",
   "metadata": {},
   "source": [
    "The ` Data_Validator` class is a robust and reusable component of the system, and decoupling the validation logic from the specific rules enables the simple extension and change of validation behavior. By following the **Open/Closed** Principle of object-oriented design,  it can construct several rule implementations and utilize them with the ` Data_Validator`  without modifying its code."
   ]
  },
  {
   "cell_type": "code",
   "execution_count": 6,
   "metadata": {},
   "outputs": [],
   "source": [
    "# The Data_Validator class is responsible for validating data based on a specified rule\n",
    "class Data_Validator:\n",
    "    def __init__(self, validation_rule):\n",
    "        # Initializes the Data_Validator with a specific validation rule\n",
    "        self.validation_rule = validation_rule\n",
    "\n",
    "    def validate(self, data):\n",
    "        # the 'apply' rule method should return the result of the validation or any other format \n",
    "            return self.validation_rule.apply(data)"
   ]
  },
  {
   "cell_type": "markdown",
   "metadata": {},
   "source": [
    "The `Statistical_Method` as a blueprint for creating various types of statistical calculation methods.\n",
    "Each concrete class `(Mean_Method, Median_Method, Mode_Method)` offers a specific implementation for calculating a certain statistical measure.\n",
    "This design fits with the **Open/Closed Principle**, allowing for adding new statistical methods without modifying the current code structure. Additionally, it ensures that each method is responsible for a single facet of statistical computation, adhering to the Single Responsibility Principle."
   ]
  },
  {
   "cell_type": "code",
   "execution_count": 7,
   "metadata": {},
   "outputs": [],
   "source": [
    "# Statistical_Method is an abstract base class (ABC) defining a common interface for statistical calculation methods.\n",
    "class Statistical_Method(ABC):\n",
    "\n",
    "    @abstractmethod\n",
    "    def calculate(self, data):\n",
    "        # The method is designed to perform a statistical calculation on the provided data.\n",
    "        pass\n",
    "\n",
    "# Mean_Method , Median_Method, Mode_Method  is a concrete implementations of Statistical_Method for calculating the mean,median,mode.\n",
    "class Mean_Method(Statistical_Method):\n",
    "    def calculate(self, data):\n",
    "        return mean(data)\n",
    "\n",
    "class Median_Method(Statistical_Method):\n",
    "    def calculate(self, data):\n",
    "        return median(data)\n",
    "\n",
    "\n",
    "class Mode_Method(Statistical_Method):\n",
    "    def calculate(self, data):\n",
    "        return mode(data)\n"
   ]
  },
  {
   "cell_type": "markdown",
   "metadata": {},
   "source": [
    "The `Statistical_MethodFactory` class in the code uses the **Factory Design Pattern** in OOP to make it easier to make new `Statistical_Method` subdivisions. The `get_method` encapsulating  the actual creation of an object, giving more authority and independence.\n",
    "\n",
    "The strategy makes the code easier to understand by making it simple to add new types of methods, deal with errors to make the code more reliable, and make the code flexible to meet changing needs while keeping the client code the same."
   ]
  },
  {
   "cell_type": "code",
   "execution_count": 8,
   "metadata": {},
   "outputs": [],
   "source": [
    "\n",
    "# Statistical_MethodFactory class for creating instances of statistical methods\n",
    "class Statistical_MethodFactory:\n",
    "    @staticmethod\n",
    "    def get_method(method_type):\n",
    "        if method_type == \"mean\":\n",
    "            return Mean_Method()\n",
    "        elif method_type == \"median\":\n",
    "            return Median_Method()\n",
    "        elif method_type == \"mode\":\n",
    "            return Mode_Method()\n",
    "        else:\n",
    "            raise ValueError(\"Unknown Method Type\")\n"
   ]
  },
  {
   "cell_type": "markdown",
   "metadata": {},
   "source": [
    "## 3. Decoupled Frontend and Backend:"
   ]
  },
  {
   "cell_type": "markdown",
   "metadata": {},
   "source": [
    "`Dataset_Subscriber` and `Reporting_Widget` demonstrate the **Abstract  Design Pattern**. \n",
    "\n",
    "`Dataset_Subscriber` requires its subclasses to implement the `update` where subscribers are informed about changes, and the `Reporting_Widget` is a specific implementation that demonstrates the principles of **encapsulation and polymorphism**. It accomplishes this by adjusting the update function, which allows different observers to respond uniquely to changes in the data.\n",
    "This is optimal for a business intelligence system, allowing for adaptable and independent responses to dataset changes."
   ]
  },
  {
   "cell_type": "code",
   "execution_count": 9,
   "metadata": {},
   "outputs": [],
   "source": [
    "\n",
    "# Dataset_Subscriber is an abstract base class that defines a common interface for all subscribers of a dataset.\n",
    "class Dataset_Subscriber(ABC):\n",
    "\n",
    "    @abstractmethod\n",
    "    def update(self, data):\n",
    "        # The 'update' method is designed to be called when the dataset it subscribes to changes.\n",
    "        pass\n"
   ]
  },
  {
   "cell_type": "code",
   "execution_count": 10,
   "metadata": {},
   "outputs": [],
   "source": [
    "\n",
    "# Reporting_Widget is a concrete implementation of Dataset_Subscriber, representing a widget in a BI system\n",
    "class Reporting_Widget(Dataset_Subscriber):\n",
    "\n",
    "    def __init__(self, widget_id):\n",
    "        # Initializes a Reporting_Widget with a widget_id can also have additional properties like logo and theme\n",
    "        self.widget_id = widget_id\n",
    "        self.logo = None       # Placeholder for a logo\n",
    "        self.theme = None      # Placeholder for a theme\n",
    "\n",
    "    def update(self, data):\n",
    "        # the widget's display or react to the changes in the dataset.\n",
    "        print(f\"Widget {self.widget_id} updated with new data: {data}, Logo: {self.logo}, Theme: {self.theme}\")\n",
    "        print(\"\\n\")\n"
   ]
  },
  {
   "cell_type": "markdown",
   "metadata": {},
   "source": [
    "### Advanced OOP methods ###\n",
    "Are shown with the `ObserverManager` class, which **combines the Singleton and Observer Design Patterns**.\n",
    "\n",
    "The Singleton feature uses thread-safe, double-checked locking in the __new__ function to guarantee only one instance of ObserverManager.\n",
    "\n",
    "In order to supply flexible and dynamic observer management, it uses the `subscribe`,`unsubscribe`and `notify` methods to handle subscribers on the observer side. \n",
    "\n",
    "Efficiency can be improved by handling notifications instantly.However, this approach provides updates and notifications, which makes it perfect for systems that need combined management across several components."
   ]
  },
  {
   "cell_type": "code",
   "execution_count": 11,
   "metadata": {},
   "outputs": [],
   "source": [
    "class ObserverManager(object):\n",
    "    # Class-level attributes for Singleton implementation\n",
    "    _instance = None  # Holds the single instance of ObserverManager\n",
    "    _lock = _thread.allocate_lock()  # Lock for thread-safe Singleton implementation\n",
    "\n",
    "    def __new__(cls):\n",
    "        #__new__ method to implement Singleton pattern\n",
    "        if cls._instance is None:  # Check if an instance already exists\n",
    "            cls._lock.acquire()  # Acquire the lock\n",
    "            if cls._instance is None:  # Double check to ensure instance is still None\n",
    "                cls._instance = object.__new__(cls)  # Create the Singleton instance\n",
    "                cls._instance.subscribers = set()  # Initialize the set only once\n",
    "            cls._lock.release()  # Release the lock\n",
    "        return cls._instance  # Return the Singleton instance\n",
    "\n",
    "    def subscribe(self, subscriber):\n",
    "        # Method to add a new subscriber to the ObserverManager\n",
    "        self.subscribers.add(subscriber)\n",
    "\n",
    "    def unsubscribe(self, subscriber):\n",
    "        #  to remove a subscriber from the ObserverManager\n",
    "        self.subscribers.discard(subscriber)\n",
    "\n",
    "    def notify(self, data):\n",
    "        # Notify all subscribers with the given data\n",
    "        for subscriber in self.subscribers:\n",
    "            subscriber.update(data)\n",
    "\n",
    "\n"
   ]
  },
  {
   "cell_type": "markdown",
   "metadata": {},
   "source": [
    "## 4. Customizable Branding for Client Companies:"
   ]
  },
  {
   "cell_type": "markdown",
   "metadata": {},
   "source": [
    "The design includes a `Branding_Strategy` as an abstract class that provides a standard interface for different branding strategies.In addition, it has an abstract method called `apply_branding` designed to be implemented by its subclasses.The method effectively applies specific branding components, such as logos and themes, to widgets.\n",
    "\n",
    "Furthermore, the subclass `Client_Branding_Strategy` is a concrete implementation of the `Branding_Strategy` interface. It overrides the `apply_branding` method to apply specific branding elements determined by the client's widget requirements.\n",
    "\n",
    "The design also added the `Branded_Widget` class, which decorates and adds dynamic branding features to a widget (inherited from 'Dataset_Subscriber') to expand its abilities.\n",
    "\n",
    "Using the `Branded_Widget` in this design pattern represents the **Decorator Pattern in OOP**. In addition, the implementation of `Client_Branding_Strategy` demonstrates **polymorphism** by providing a specific implementation of the abstract `apply_branding` function defined by the base class.\n"
   ]
  },
  {
   "cell_type": "code",
   "execution_count": 12,
   "metadata": {},
   "outputs": [],
   "source": [
    "\n",
    "# Branding_Strategy is an abstract base class (ABC) that defines a common interface for branding strategies.\n",
    "class Branding_Strategy(ABC):\n",
    "\n",
    "    @abstractmethod\n",
    "    def apply_branding(self, widget):\n",
    "        # This is an abstract method is designed to apply branding elements (logos and themes) to a given widget.\n",
    "        pass\n"
   ]
  },
  {
   "cell_type": "code",
   "execution_count": 13,
   "metadata": {},
   "outputs": [],
   "source": [
    "\n",
    "# Client_Branding_Strategy is a concrete implementation of the Branding_Strategy interface use for  specific client's branding requirements.\n",
    "class Client_Branding_Strategy(Branding_Strategy):\n",
    "    def __init__(self, logo, theme):\n",
    "        # These branding elements are applied to widgets to maintain consistent branding for the client.\n",
    "        self.logo = logo\n",
    "        self.theme = theme\n",
    "\n",
    "    def apply_branding(self, widget):\n",
    "        # sets the logo and theme of the given widget according to the client's branding.\n",
    "        widget.logo = self.logo\n",
    "        widget.theme = self.theme\n",
    "\n",
    "        # For demonstration, print a message indicating that branding has been applied.\n",
    "        print(f\"Applied branding - Logo: {self.logo}, Theme: {self.theme}\")\n"
   ]
  },
  {
   "cell_type": "code",
   "execution_count": 14,
   "metadata": {},
   "outputs": [],
   "source": [
    "\n",
    "# Branded_Widget is a decorator class that adds branding functionality to widgets.\n",
    "class Branded_Widget(Dataset_Subscriber):\n",
    "    def __init__(self, widget, branding_strategy):\n",
    "        # Initializes the Branded_Widget with a widget and a branding strategy.\n",
    "        # The widget is the object to which branding will be applied.\n",
    "        # The branding_strategy is an instance of a class that implements the Branding_Strategy interface.\n",
    "        self._widget = widget\n",
    "        self._branding_strategy = branding_strategy\n",
    "\n",
    "    def update(self, data):\n",
    "        # Overrides the 'update' method of Dataset_Subscriber.\n",
    "        # When the dataset updates, this method first applies branding to the widget\n",
    "        # using the specified branding strategy, and then updates the widget with the new data.\n",
    "        self._branding_strategy.apply_branding(self._widget)\n",
    "        self._widget.update(data)\n",
    "\n"
   ]
  },
  {
   "cell_type": "markdown",
   "metadata": {},
   "source": [
    "## The Simulation"
   ]
  },
  {
   "cell_type": "code",
   "execution_count": 15,
   "metadata": {},
   "outputs": [
    {
     "name": "stdout",
     "output_type": "stream",
     "text": [
      "Dataset before applying the rule: [5, 2, 3, 'apple', 4, 5, -1, 99, 789, -88, 89, 8, 9, 'Black', None, 9, 10]\n",
      "\n",
      "After Validation - Valid Data: [5, 2, 3, 4, 5, 99, 789, 89, 8, 9, 9, 10]\n",
      "\n",
      "Invalid Items Removed: ['apple', -1, -88, 'Black', None]\n",
      "\n",
      "Initial Statistics:\n",
      "Mean: 86\n",
      "Median: 8.5\n",
      "Mode: 5\n",
      "\n",
      "Subscribed Widget1 and Widget2 to dataset updates.\n",
      "\n",
      "Adding new data (6) to dataset:\n",
      "Applied branding - Logo: ClientA_Logo.png, Theme: Blue\n",
      "Widget Widget1 updated with new data: [5, 2, 3, 4, 5, 99, 789, 89, 8, 9, 9, 10, 6], Logo: ClientA_Logo.png, Theme: Blue\n",
      "\n",
      "\n",
      "Applied branding - Logo: ClientB_Logo.png, Theme: Green\n",
      "Widget Widget2 updated with new data: [5, 2, 3, 4, 5, 99, 789, 89, 8, 9, 9, 10, 6], Logo: ClientB_Logo.png, Theme: Green\n",
      "\n",
      "\n",
      "Notification sent to all subscribed widgets.\n",
      "\n",
      "Unsubscribing Widget2 from dataset updates.\n",
      "\n",
      "Adding new data (7) to dataset:\n",
      "Applied branding - Logo: ClientA_Logo.png, Theme: Blue\n",
      "Widget Widget1 updated with new data: [5, 2, 3, 4, 5, 99, 789, 89, 8, 9, 9, 10, 6, 7], Logo: ClientA_Logo.png, Theme: Blue\n",
      "\n",
      "\n",
      "Notification sent to subscribed widgets. Widget2 will not receive this update.\n",
      "\n",
      "Statistics after Data Change:\n",
      "Mean: 74.64285714285714\n",
      "Median: 7.5\n",
      "Mode: 5\n"
     ]
    }
   ],
   "source": [
    "#Initialize Dataset and Components\n",
    "initial_data = [5, 2, 3, \"apple\", 4, 5, -1, 99, 789, -88, 89, 8, 9 , 'Black',None, 9 , 10]\n",
    "dataset = Dataset(initial_data)\n",
    "data_validator = Data_Validator(Numeric_Validation_Rule())\n",
    "mean_calculator = Data_Calculator(Statistical_MethodFactory.get_method(\"mean\"))\n",
    "median_calculator = Data_Calculator(Statistical_MethodFactory.get_method(\"median\"))\n",
    "mode_calculator = Data_Calculator(Statistical_MethodFactory.get_method(\"mode\"))\n",
    "\n",
    "#Apply Data Validation\n",
    "print(\"Dataset before applying the rule:\", dataset.inspect())\n",
    "valid_items, invalid_items = data_validator.validate(dataset.inspect())\n",
    "dataset.data = valid_items\n",
    "print(\"\\nAfter Validation - Valid Data:\", dataset.inspect())\n",
    "print(\"\\nInvalid Items Removed:\", invalid_items)\n",
    "\n",
    "#Calculate Initial Statistics\n",
    "print(\"\\nInitial Statistics:\")\n",
    "print(\"Mean:\", mean_calculator.calculate(dataset.inspect()))\n",
    "print(\"Median:\", median_calculator.calculate(dataset.inspect()))\n",
    "print(\"Mode:\", mode_calculator.calculate(dataset.inspect()))\n",
    "\n",
    "# Branding and Widgets Setup\n",
    "client_a_branding = Client_Branding_Strategy(logo='ClientA_Logo.png', theme='Blue')\n",
    "widget1 = Reporting_Widget(widget_id='Widget1')\n",
    "branded_widget1 = Branded_Widget(widget1, client_a_branding)\n",
    "\n",
    "client_b_branding = Client_Branding_Strategy(logo='ClientB_Logo.png', theme='Green')\n",
    "widget2 = Reporting_Widget(widget_id='Widget2')\n",
    "branded_widget2 = Branded_Widget(widget2, client_b_branding)\n",
    "\n",
    "# Subscribe Widgets to Dataset\n",
    "observer_manager = ObserverManager()\n",
    "observer_manager.subscribe(branded_widget1)\n",
    "observer_manager.subscribe(branded_widget2)\n",
    "print(\"\\nSubscribed Widget1 and Widget2 to dataset updates.\")\n",
    "\n",
    "# Add new data (6) and observe updates - Both widgets will be notified\n",
    "print(\"\\nAdding new data (6) to dataset:\")\n",
    "dataset.add(6)\n",
    "print(\"Notification sent to all subscribed widgets.\")\n",
    "\n",
    "# Unsubscribe Widget2 and add more data (7) - Only Widget1 will be notified\n",
    "print(\"\\nUnsubscribing Widget2 from dataset updates.\")\n",
    "observer_manager.unsubscribe(branded_widget2)\n",
    "print(\"\\nAdding new data (7) to dataset:\")\n",
    "dataset.add(7)\n",
    "print(\"Notification sent to subscribed widgets. Widget2 will not receive this update.\")\n",
    "\n",
    "# Displaying Statistics\n",
    "print(\"\\nStatistics after Data Change:\")\n",
    "print(\"Mean:\", mean_calculator.calculate(dataset.inspect()))\n",
    "print(\"Median:\", median_calculator.calculate(dataset.inspect()))\n",
    "print(\"Mode:\", mode_calculator.calculate(dataset.inspect()))"
   ]
  },
  {
   "cell_type": "markdown",
   "metadata": {},
   "source": [
    "## Conclusion"
   ]
  },
  {
   "cell_type": "markdown",
   "metadata": {},
   "source": [
    "(OOP) methods and  design patterns are used in the ABC-BI system prototype to improve dynamic dataset management and robust data validation. \n",
    "By combining the Observer, Strategy, Factory, and Decorator patterns, the system becomes more flexible, scalable, and easy to manage. \n",
    "This method fits with how business needs change over time and becomes the standard for designing software for business intelligence solutions.\n"
   ]
  }
 ],
 "metadata": {
  "kernelspec": {
   "display_name": "Python 3",
   "language": "python",
   "name": "python3"
  },
  "language_info": {
   "codemirror_mode": {
    "name": "ipython",
    "version": 3
   },
   "file_extension": ".py",
   "mimetype": "text/x-python",
   "name": "python",
   "nbconvert_exporter": "python",
   "pygments_lexer": "ipython3",
   "version": "3.10.5"
  }
 },
 "nbformat": 4,
 "nbformat_minor": 2
}
